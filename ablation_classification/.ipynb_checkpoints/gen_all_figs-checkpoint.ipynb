{
 "cells": [
  {
   "cell_type": "code",
   "execution_count": 4,
   "metadata": {},
   "outputs": [
    {
     "name": "stderr",
     "output_type": "stream",
     "text": [
      "/home/ml/mwabar/miniconda3/envs/fj/lib/python3.7/site-packages/matplotlib/axes/_axes.py:6521: MatplotlibDeprecationWarning: \n",
      "The 'normed' kwarg was deprecated in Matplotlib 2.1 and will be removed in 3.1. Use 'density' instead.\n",
      "  alternative=\"'density'\", removal=\"3.1\")\n"
     ]
    },
    {
     "data": {
      "image/png": "[encoded data removed]",
      "text/plain": [
       "<Figure size 720x360 with 3 Axes>"
      ]
     },
     "metadata": {},
     "output_type": "display_data"
    }
   ],
   "source": [
    "import h5py\n",
    "import matplotlib\n",
    "# matplotlib.use('tkagg')\n",
    "import matplotlib.pyplot as plt\n",
    "import seaborn as sns\n",
    "\n",
    "sns.set(font_scale=1.9, rc={'text.usetex': True})\n",
    "sns.set_style('whitegrid')\n",
    "\n",
    "from tqdm import tqdm\n",
    "import argparse as ap\n",
    "import numpy as np\n",
    "import tools\n",
    "import json\n",
    "from pathlib import Path\n",
    "import os\n",
    "\n",
    "p = Path('cv/train:mnist_repulsive:uniformnoise_l:50._b:10.')\n",
    "dirname = 'train:mnist_repulsive:uniformnoise_l:50._b:10.'\n",
    "path_control = Path('log/control')\n",
    "eval_datasets = ['mnist_final', 'notmnist_final', 'kmnist_final']\n",
    "titles = ['MNIST', 'notMNIST', 'KMNIST']\n",
    "maxval = 15000\n",
    "label = 'DENN'\n",
    "save = False\n",
    "\n",
    "max_possible_entropy = tools.float_round(np.log(10), 2)  # entropy maximum if uniform distribution\n",
    "n_bins = 20\n",
    "\n",
    "# # read config\n",
    "with open(p / 'config.json', 'r') as fd:\n",
    "    config = json.load(fd)\n",
    "\n",
    "# Read the entropy file\n",
    "path_stats = p / 'stats'\n",
    "    \n",
    "# ------------------------------------------\n",
    "# Visualisation of the predictive entropy\n",
    "# ------------------------------------------\n",
    "fig, axes = plt.subplots(1, 3, figsize=(10, 5), squeeze=False, sharey=True)\n",
    "\n",
    "# ------------------------------------------\n",
    "# Loading entropy stats for control\n",
    "# ------------------------------------------\n",
    "for i, (eval_dataset, title) in enumerate(zip(eval_datasets, titles)):\n",
    "\n",
    "    ax = axes[0,i]\n",
    "    \n",
    "    entropy_control_validation = h5py.File(path_control / 'stats/{}.h5'.format(eval_dataset), 'r')\n",
    "    entro_validation_control_vals = entropy_control_validation.get('std')\n",
    "\n",
    "    entropy_subexp_validation = h5py.File(path_stats / '{}.h5'.format(eval_dataset), 'r')\n",
    "    plt.ticklabel_format(style='sci', axis='y', scilimits=(0,0))\n",
    "\n",
    "    # --------------------------------------\n",
    "    # First dataset: Validation or test dataset\n",
    "    # In this setting we evaluate the generalization power of our method. We don't want to be too uncertain on those values.\n",
    "    # --------------------------------------\n",
    "    # plt.title('Entropy histogram \\non MNIST')\n",
    "    ax.set_xlim(-0.1, max_possible_entropy + 0.1)\n",
    "    ax.set_ylim(-0.1, maxval)\n",
    "    # plt.setp(ax.get_xticklabels(), visible=True)\n",
    "\n",
    "    entro_vals = entropy_subexp_validation.get('std')\n",
    "    sns.distplot(entro_vals, hist=True, kde=False, bins=n_bins,\n",
    "                 kde_kws={'shade': True, 'linewidth': 2},\n",
    "                 hist_kws={\"histtype\": \"stepfilled\", 'range': (0, max_possible_entropy), 'linewidth': 2, 'log': False},\n",
    "                 color='blue',\n",
    "                 label=label, ax=ax)\n",
    "\n",
    "    sns.distplot(entro_validation_control_vals, hist=True, kde=False, bins=n_bins,\n",
    "                 kde_kws={'shade': True, 'linewidth': 2},\n",
    "                 hist_kws={\"histtype\": \"stepfilled\", 'range': (0, max_possible_entropy), 'linewidth': 2, 'log': False},\n",
    "                 color='orangered',\n",
    "                 label='Deep ensemble', ax=ax)\n",
    "    ax.set_title(title)\n",
    "    ax.set_xlabel('Predictive entropy')\n",
    "    if i==2:\n",
    "        ax.legend()\n",
    "    if i==0:\n",
    "\n",
    "        ax.set_ylabel('Count')\n",
    "    else:\n",
    "        ax.tick_params(axis=u'both', which=u'both',length=0)\n",
    "        ax.set_ylabel('')\n",
    "    \n",
    "\n",
    "# Now we save / show the plot\n",
    "# ax.set_aspect('equal')\n",
    "fig.tight_layout()\n",
    "plt.subplots_adjust(wspace = .1)\n",
    "\n",
    "# Now we save the figure\n",
    "figname = 'mnist_notmnist-uniform.pdf'\n",
    "p_fig = Path('img') / figname\n",
    "if not Path.exists(Path('img')):\n",
    "    os.makedirs(Path('img'))\n",
    "fig.savefig(p_fig)"
   ]
  },
  {
   "cell_type": "code",
   "execution_count": null,
   "metadata": {},
   "outputs": [],
   "source": []
  }
 ],
 "metadata": {
  "kernelspec": {
   "display_name": "Python 3",
   "language": "python",
   "name": "python3"
  },
  "language_info": {
   "codemirror_mode": {
    "name": "ipython",
    "version": 3
   },
   "file_extension": ".py",
   "mimetype": "text/x-python",
   "name": "python",
   "nbconvert_exporter": "python",
   "pygments_lexer": "ipython3",
   "version": "3.7.2"
  }
 },
 "nbformat": 4,
 "nbformat_minor": 2
}
