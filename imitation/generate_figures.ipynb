{
 "cells": [
  {
   "cell_type": "code",
   "execution_count": 1,
   "metadata": {},
   "outputs": [],
   "source": [
    "import h5py\n",
    "import numpy as np\n",
    "import argparse as ap\n",
    "from pathlib import Path\n",
    "import os\n",
    "from tqdm import tqdm\n",
    "\n",
    "import matplotlib\n",
    "import matplotlib.pyplot as plt\n",
    "import seaborn as sns\n",
    "sns.set(font_scale=1.9, rc={'text.usetex': True})\n",
    "sns.set_style('whitegrid')"
   ]
  },
  {
   "cell_type": "code",
   "execution_count": 34,
   "metadata": {},
   "outputs": [],
   "source": [
    "datasets = ['red_sphere_final', 'blue_sphere_final', 'red_rectangle_final']\n",
    "titles = ['Same color and shape', 'Different color', 'Different shape']\n",
    "p_denn_l1 = Path('log/train:red_sphere_repulsive:green_sphere_l:1_b:0.1')\n",
    "p_denn_l10 = Path('log/train:red_sphere_repulsive:green_sphere_l:10_b:0.1')\n",
    "p_deep_ensemble = Path('log/new_ensemble_train:red_sphere')"
   ]
  },
  {
   "cell_type": "code",
   "execution_count": 86,
   "metadata": {},
   "outputs": [
    {
     "data": {
      "image/png": "[encoded data removed]",
      "text/plain": [
       "<Figure size 720x288 with 3 Axes>"
      ]
     },
     "metadata": {
      "needs_background": "light"
     },
     "output_type": "display_data"
    }
   ],
   "source": [
    "# ===============================================================================\n",
    "# showing the plots\n",
    "# ===============================================================================\n",
    "\n",
    "fig, axes = plt.subplots(1, 3, figsize=(10, 4), squeeze=False, sharey=True)\n",
    "\n",
    "\n",
    "for i, (dataset, title) in enumerate(zip(datasets, titles)):\n",
    "    ax = axes[0, i]\n",
    "    ax.set_ylim([0, 6e3])\n",
    "\n",
    "    with h5py.File(p_deep_ensemble / '{}.h5'.format(dataset), 'r') as cf:\n",
    "        baseline_test_std = cf.get('std')[:]\n",
    "\n",
    "    with h5py.File(p_denn_l1 / '{}.h5'.format(dataset), 'r') as f:\n",
    "        test_std1 = f.get('std')[:]\n",
    "    with h5py.File(p_denn_l10 / '{}.h5'.format(dataset), 'r') as f:\n",
    "        test_std2 = f.get('std')[:]\n",
    "\n",
    "    # Preparing data for plots\n",
    "    # --> We take the mean since the differences between the actions do not seem to be significative\n",
    "    baseline_test = baseline_test_std.mean(1)\n",
    "    method_test1 = test_std1.mean(1)\n",
    "    method_test2 = test_std2.mean(1)\n",
    "\n",
    "    # display ticks\n",
    "    #ax.set_xticks([0, 0.5])\n",
    "    plt.setp(ax.get_xticklabels(), visible=True)\n",
    "    plt.setp(ax.get_xticklabels()[0], ha='left')\n",
    "    plt.setp(ax.get_xticklabels()[-1], ha='right')\n",
    "    if i == 0:\n",
    "        plt.setp(ax.get_yticklabels()[0], va='bottom')\n",
    "        plt.setp(ax.get_yticklabels()[-1], va='top')\n",
    "\n",
    "\n",
    "    #bins = np.histogram(np.hstack((test_std[:,0], eval_std[:,0], baseline_test_std[:,0], baseline_eval_std[:,0])), bins=40)[1] # defining the bins\n",
    "    bins = np.arange(0, 0.5, 0.01) # defining the bins\n",
    "    # Proposed method\n",
    "    sns.distplot(method_test1, hist=True, kde=False, bins=bins,\n",
    "                 kde_kws={'shade': True, 'linewidth': 2},\n",
    "                 hist_kws={\"histtype\": \"step\", 'log': False, 'linewidth': 3, 'linestyle':('solid'), 'alpha':.5},\n",
    "                 label=r'DENN, $\\lambda=1$', ax=ax, color='blue')\n",
    "\n",
    "    # Proposed method\n",
    "    sns.distplot(method_test2, hist=True, kde=False, bins=bins,\n",
    "                 kde_kws={'shade': True, 'linewidth': 2},\n",
    "                 hist_kws={\"histtype\": \"step\", 'log': False, 'linewidth': 3, 'linestyle':('dashed'), 'alpha':.5},\n",
    "                 label=r'DENN, $\\lambda=10$', ax=ax, color='black')\n",
    "\n",
    "    # Baseline method\n",
    "    sns.distplot(baseline_test, hist=True, kde=False, bins=bins,\n",
    "                 kde_kws={'shade': True, 'linewidth': 2},\n",
    "                 hist_kws={\"histtype\": \"step\", 'log': False, 'linewidth': 3, 'linestyle':('solid'), 'alpha':.5},\n",
    "                 label='Deep ensemble', ax=ax, color='orangered')\n",
    "\n",
    "    \n",
    "    ax.set_xlabel('Avg. std over actions')\n",
    "        \n",
    "    if i == 0:\n",
    "        ax.set_ylabel('Count')\n",
    "\n",
    "    else:\n",
    "        ax.set_ylabel('')\n",
    "    ax.set_xlim(0.0, 0.5)\n",
    "    if i == 0:\n",
    "        ax.legend(loc=(.1, .45), prop={'size':18})\n",
    "    ax.set_title(title)\n",
    "\n",
    "plt.tight_layout()\n",
    "plt.subplots_adjust(wspace = .1)\n",
    "plt.ticklabel_format(style='sci', axis='y', scilimits=(0,0))\n",
    "t = axes[0,0].yaxis.get_offset_text()\n",
    "t.set_x(-.25)\n",
    "plt.show()\n",
    "# figname = 'reacher-predictive-std.pdf'\n",
    "# pfig = Path('img') / figname\n",
    "# plt.savefig(pfig)"
   ]
  },
  {
   "cell_type": "code",
   "execution_count": null,
   "metadata": {},
   "outputs": [],
   "source": []
  }
 ],
 "metadata": {
  "kernelspec": {
   "display_name": "Python 3",
   "language": "python",
   "name": "python3"
  },
  "language_info": {
   "codemirror_mode": {
    "name": "ipython",
    "version": 3
   },
   "file_extension": ".py",
   "mimetype": "text/x-python",
   "name": "python",
   "nbconvert_exporter": "python",
   "pygments_lexer": "ipython3",
   "version": "3.7.3"
  }
 },
 "nbformat": 4,
 "nbformat_minor": 4
}
